{
 "cells": [
  {
   "cell_type": "markdown",
   "id": "fea0f158",
   "metadata": {},
   "source": [
    "### SASA trajectory analysis.\n",
    "Works well for protein and ligand residues of up to 10,000 atoms. You will need a pdb file and a trajectory file. Protein and ligand must have DIFFERENT CHAIN IDs. You also need to have naccess and MDAnalysis.\n",
    "Written by Peter Obi 11/17/2022"
   ]
  },
  {
   "cell_type": "code",
   "execution_count": 191,
   "id": "f18d0e7f",
   "metadata": {},
   "outputs": [],
   "source": [
    "import MDAnalysis\n",
    "from biopandas.pdb import PandasPdb\n",
    "import pandas as pd\n",
    "import numpy as np"
   ]
  },
  {
   "cell_type": "code",
   "execution_count": 49,
   "id": "86cc2f9e",
   "metadata": {},
   "outputs": [],
   "source": [
    "import glob"
   ]
  },
  {
   "cell_type": "code",
   "execution_count": 6,
   "id": "50589c69",
   "metadata": {},
   "outputs": [
    {
     "data": {
      "text/plain": [
       "6"
      ]
     },
     "execution_count": 6,
     "metadata": {},
     "output_type": "execute_result"
    }
   ],
   "source": [
    "topology = 'step5_input.pdb' #change pdb name as needed\n",
    "trajectory = '5.trr' #change trajecory name as needed\n",
    "u = MDAnalysis.Universe(topology,trajectory)\n",
    "protein_ligand = u.select_atoms(\"protein or (resname P1N)\") #change P1N to ligand name\n",
    "ligand = u.select_atoms(\"resname P1N\")\n",
    "len(u.trajectory)"
   ]
  },
  {
   "cell_type": "code",
   "execution_count": null,
   "id": "70b26f03",
   "metadata": {},
   "outputs": [],
   "source": [
    "for ts in u.trajectory:\n",
    "    with MDAnalysis.Writer(\"{}_complex.pdb\".format(ts.frame), protein_ligand.n_atoms) as W:\n",
    "        W.write(protein_ligand)\n",
    "    with MDAnalysis.Writer(\"{}_ligand.pdb\".format(ts.frame), ligand.n_atoms) as L:\n",
    "        L.write(ligand)     "
   ]
  },
  {
   "cell_type": "code",
   "execution_count": 210,
   "id": "fc88c9cd",
   "metadata": {},
   "outputs": [
    {
     "data": {
      "text/html": [
       "<div>\n",
       "<style scoped>\n",
       "    .dataframe tbody tr th:only-of-type {\n",
       "        vertical-align: middle;\n",
       "    }\n",
       "\n",
       "    .dataframe tbody tr th {\n",
       "        vertical-align: top;\n",
       "    }\n",
       "\n",
       "    .dataframe thead th {\n",
       "        text-align: right;\n",
       "    }\n",
       "</style>\n",
       "<table border=\"1\" class=\"dataframe\">\n",
       "  <thead>\n",
       "    <tr style=\"text-align: right;\">\n",
       "      <th></th>\n",
       "      <th>record_name</th>\n",
       "      <th>atom_number</th>\n",
       "      <th>blank_1</th>\n",
       "      <th>atom_name</th>\n",
       "      <th>alt_loc</th>\n",
       "      <th>residue_name</th>\n",
       "      <th>blank_2</th>\n",
       "      <th>chain_id</th>\n",
       "      <th>residue_number</th>\n",
       "      <th>insertion</th>\n",
       "      <th>...</th>\n",
       "      <th>x_coord</th>\n",
       "      <th>y_coord</th>\n",
       "      <th>z_coord</th>\n",
       "      <th>occupancy</th>\n",
       "      <th>b_factor</th>\n",
       "      <th>blank_4</th>\n",
       "      <th>segment_id</th>\n",
       "      <th>element_symbol</th>\n",
       "      <th>charge</th>\n",
       "      <th>line_idx</th>\n",
       "    </tr>\n",
       "  </thead>\n",
       "  <tbody>\n",
       "    <tr>\n",
       "      <th>0</th>\n",
       "      <td>ATOM</td>\n",
       "      <td>1</td>\n",
       "      <td></td>\n",
       "      <td>N</td>\n",
       "      <td></td>\n",
       "      <td>MET</td>\n",
       "      <td></td>\n",
       "      <td>X</td>\n",
       "      <td>9</td>\n",
       "      <td></td>\n",
       "      <td>...</td>\n",
       "      <td>63.18</td>\n",
       "      <td>71.94</td>\n",
       "      <td>-10.03</td>\n",
       "      <td>1.0</td>\n",
       "      <td>0.0</td>\n",
       "      <td></td>\n",
       "      <td>PROA</td>\n",
       "      <td>N</td>\n",
       "      <td>NaN</td>\n",
       "      <td>3</td>\n",
       "    </tr>\n",
       "    <tr>\n",
       "      <th>1</th>\n",
       "      <td>ATOM</td>\n",
       "      <td>2</td>\n",
       "      <td></td>\n",
       "      <td>HT1</td>\n",
       "      <td></td>\n",
       "      <td>MET</td>\n",
       "      <td></td>\n",
       "      <td>X</td>\n",
       "      <td>9</td>\n",
       "      <td></td>\n",
       "      <td>...</td>\n",
       "      <td>62.75</td>\n",
       "      <td>72.45</td>\n",
       "      <td>-10.83</td>\n",
       "      <td>1.0</td>\n",
       "      <td>0.0</td>\n",
       "      <td></td>\n",
       "      <td>PROA</td>\n",
       "      <td>H</td>\n",
       "      <td>NaN</td>\n",
       "      <td>4</td>\n",
       "    </tr>\n",
       "    <tr>\n",
       "      <th>2</th>\n",
       "      <td>ATOM</td>\n",
       "      <td>3</td>\n",
       "      <td></td>\n",
       "      <td>HT2</td>\n",
       "      <td></td>\n",
       "      <td>MET</td>\n",
       "      <td></td>\n",
       "      <td>X</td>\n",
       "      <td>9</td>\n",
       "      <td></td>\n",
       "      <td>...</td>\n",
       "      <td>64.13</td>\n",
       "      <td>71.71</td>\n",
       "      <td>-10.36</td>\n",
       "      <td>1.0</td>\n",
       "      <td>0.0</td>\n",
       "      <td></td>\n",
       "      <td>PROA</td>\n",
       "      <td>H</td>\n",
       "      <td>NaN</td>\n",
       "      <td>5</td>\n",
       "    </tr>\n",
       "    <tr>\n",
       "      <th>3</th>\n",
       "      <td>ATOM</td>\n",
       "      <td>4</td>\n",
       "      <td></td>\n",
       "      <td>HT3</td>\n",
       "      <td></td>\n",
       "      <td>MET</td>\n",
       "      <td></td>\n",
       "      <td>X</td>\n",
       "      <td>9</td>\n",
       "      <td></td>\n",
       "      <td>...</td>\n",
       "      <td>63.28</td>\n",
       "      <td>72.71</td>\n",
       "      <td>-9.34</td>\n",
       "      <td>1.0</td>\n",
       "      <td>0.0</td>\n",
       "      <td></td>\n",
       "      <td>PROA</td>\n",
       "      <td>H</td>\n",
       "      <td>NaN</td>\n",
       "      <td>6</td>\n",
       "    </tr>\n",
       "    <tr>\n",
       "      <th>4</th>\n",
       "      <td>ATOM</td>\n",
       "      <td>5</td>\n",
       "      <td></td>\n",
       "      <td>CA</td>\n",
       "      <td></td>\n",
       "      <td>MET</td>\n",
       "      <td></td>\n",
       "      <td>X</td>\n",
       "      <td>9</td>\n",
       "      <td></td>\n",
       "      <td>...</td>\n",
       "      <td>62.27</td>\n",
       "      <td>70.89</td>\n",
       "      <td>-9.56</td>\n",
       "      <td>1.0</td>\n",
       "      <td>0.0</td>\n",
       "      <td></td>\n",
       "      <td>PROA</td>\n",
       "      <td>C</td>\n",
       "      <td>NaN</td>\n",
       "      <td>7</td>\n",
       "    </tr>\n",
       "    <tr>\n",
       "      <th>...</th>\n",
       "      <td>...</td>\n",
       "      <td>...</td>\n",
       "      <td>...</td>\n",
       "      <td>...</td>\n",
       "      <td>...</td>\n",
       "      <td>...</td>\n",
       "      <td>...</td>\n",
       "      <td>...</td>\n",
       "      <td>...</td>\n",
       "      <td>...</td>\n",
       "      <td>...</td>\n",
       "      <td>...</td>\n",
       "      <td>...</td>\n",
       "      <td>...</td>\n",
       "      <td>...</td>\n",
       "      <td>...</td>\n",
       "      <td>...</td>\n",
       "      <td>...</td>\n",
       "      <td>...</td>\n",
       "      <td>...</td>\n",
       "      <td>...</td>\n",
       "    </tr>\n",
       "    <tr>\n",
       "      <th>26962</th>\n",
       "      <td>ATOM</td>\n",
       "      <td>26963</td>\n",
       "      <td></td>\n",
       "      <td>H192</td>\n",
       "      <td></td>\n",
       "      <td>P1N</td>\n",
       "      <td></td>\n",
       "      <td>L</td>\n",
       "      <td>509</td>\n",
       "      <td></td>\n",
       "      <td>...</td>\n",
       "      <td>39.58</td>\n",
       "      <td>26.48</td>\n",
       "      <td>72.49</td>\n",
       "      <td>1.0</td>\n",
       "      <td>0.0</td>\n",
       "      <td></td>\n",
       "      <td>HETA</td>\n",
       "      <td>H</td>\n",
       "      <td>NaN</td>\n",
       "      <td>26965</td>\n",
       "    </tr>\n",
       "    <tr>\n",
       "      <th>26963</th>\n",
       "      <td>ATOM</td>\n",
       "      <td>26964</td>\n",
       "      <td></td>\n",
       "      <td>H193</td>\n",
       "      <td></td>\n",
       "      <td>P1N</td>\n",
       "      <td></td>\n",
       "      <td>L</td>\n",
       "      <td>509</td>\n",
       "      <td></td>\n",
       "      <td>...</td>\n",
       "      <td>40.58</td>\n",
       "      <td>26.57</td>\n",
       "      <td>73.96</td>\n",
       "      <td>1.0</td>\n",
       "      <td>0.0</td>\n",
       "      <td></td>\n",
       "      <td>HETA</td>\n",
       "      <td>H</td>\n",
       "      <td>NaN</td>\n",
       "      <td>26966</td>\n",
       "    </tr>\n",
       "    <tr>\n",
       "      <th>26964</th>\n",
       "      <td>ATOM</td>\n",
       "      <td>26965</td>\n",
       "      <td></td>\n",
       "      <td>H211</td>\n",
       "      <td></td>\n",
       "      <td>P1N</td>\n",
       "      <td></td>\n",
       "      <td>L</td>\n",
       "      <td>509</td>\n",
       "      <td></td>\n",
       "      <td>...</td>\n",
       "      <td>38.40</td>\n",
       "      <td>25.53</td>\n",
       "      <td>82.31</td>\n",
       "      <td>1.0</td>\n",
       "      <td>0.0</td>\n",
       "      <td></td>\n",
       "      <td>HETA</td>\n",
       "      <td>H</td>\n",
       "      <td>NaN</td>\n",
       "      <td>26967</td>\n",
       "    </tr>\n",
       "    <tr>\n",
       "      <th>26965</th>\n",
       "      <td>ATOM</td>\n",
       "      <td>26966</td>\n",
       "      <td></td>\n",
       "      <td>H212</td>\n",
       "      <td></td>\n",
       "      <td>P1N</td>\n",
       "      <td></td>\n",
       "      <td>L</td>\n",
       "      <td>509</td>\n",
       "      <td></td>\n",
       "      <td>...</td>\n",
       "      <td>38.99</td>\n",
       "      <td>24.19</td>\n",
       "      <td>81.40</td>\n",
       "      <td>1.0</td>\n",
       "      <td>0.0</td>\n",
       "      <td></td>\n",
       "      <td>HETA</td>\n",
       "      <td>H</td>\n",
       "      <td>NaN</td>\n",
       "      <td>26968</td>\n",
       "    </tr>\n",
       "    <tr>\n",
       "      <th>26966</th>\n",
       "      <td>ATOM</td>\n",
       "      <td>26967</td>\n",
       "      <td></td>\n",
       "      <td>H213</td>\n",
       "      <td></td>\n",
       "      <td>P1N</td>\n",
       "      <td></td>\n",
       "      <td>L</td>\n",
       "      <td>509</td>\n",
       "      <td></td>\n",
       "      <td>...</td>\n",
       "      <td>38.00</td>\n",
       "      <td>25.40</td>\n",
       "      <td>80.46</td>\n",
       "      <td>1.0</td>\n",
       "      <td>0.0</td>\n",
       "      <td></td>\n",
       "      <td>HETA</td>\n",
       "      <td>H</td>\n",
       "      <td>NaN</td>\n",
       "      <td>26969</td>\n",
       "    </tr>\n",
       "  </tbody>\n",
       "</table>\n",
       "<p>26967 rows × 21 columns</p>\n",
       "</div>"
      ],
      "text/plain": [
       "      record_name  atom_number blank_1 atom_name alt_loc residue_name blank_2  \\\n",
       "0            ATOM            1                 N                  MET           \n",
       "1            ATOM            2               HT1                  MET           \n",
       "2            ATOM            3               HT2                  MET           \n",
       "3            ATOM            4               HT3                  MET           \n",
       "4            ATOM            5                CA                  MET           \n",
       "...           ...          ...     ...       ...     ...          ...     ...   \n",
       "26962        ATOM        26963              H192                  P1N           \n",
       "26963        ATOM        26964              H193                  P1N           \n",
       "26964        ATOM        26965              H211                  P1N           \n",
       "26965        ATOM        26966              H212                  P1N           \n",
       "26966        ATOM        26967              H213                  P1N           \n",
       "\n",
       "      chain_id  residue_number insertion  ... x_coord  y_coord  z_coord  \\\n",
       "0            X               9            ...   63.18    71.94   -10.03   \n",
       "1            X               9            ...   62.75    72.45   -10.83   \n",
       "2            X               9            ...   64.13    71.71   -10.36   \n",
       "3            X               9            ...   63.28    72.71    -9.34   \n",
       "4            X               9            ...   62.27    70.89    -9.56   \n",
       "...        ...             ...       ...  ...     ...      ...      ...   \n",
       "26962        L             509            ...   39.58    26.48    72.49   \n",
       "26963        L             509            ...   40.58    26.57    73.96   \n",
       "26964        L             509            ...   38.40    25.53    82.31   \n",
       "26965        L             509            ...   38.99    24.19    81.40   \n",
       "26966        L             509            ...   38.00    25.40    80.46   \n",
       "\n",
       "       occupancy  b_factor  blank_4 segment_id element_symbol charge  line_idx  \n",
       "0            1.0       0.0                PROA              N    NaN         3  \n",
       "1            1.0       0.0                PROA              H    NaN         4  \n",
       "2            1.0       0.0                PROA              H    NaN         5  \n",
       "3            1.0       0.0                PROA              H    NaN         6  \n",
       "4            1.0       0.0                PROA              C    NaN         7  \n",
       "...          ...       ...      ...        ...            ...    ...       ...  \n",
       "26962        1.0       0.0                HETA              H    NaN     26965  \n",
       "26963        1.0       0.0                HETA              H    NaN     26966  \n",
       "26964        1.0       0.0                HETA              H    NaN     26967  \n",
       "26965        1.0       0.0                HETA              H    NaN     26968  \n",
       "26966        1.0       0.0                HETA              H    NaN     26969  \n",
       "\n",
       "[26967 rows x 21 columns]"
      ]
     },
     "execution_count": 210,
     "metadata": {},
     "output_type": "execute_result"
    }
   ],
   "source": [
    "\n",
    "ppdb = PandasPdb().read_pdb('0_complex.pdb')\n",
    "ppdb.df['ATOM']"
   ]
  },
  {
   "cell_type": "code",
   "execution_count": 213,
   "id": "707c70db",
   "metadata": {},
   "outputs": [
    {
     "data": {
      "text/plain": [
       "dict_keys(['ATOM', 'HETATM', 'ANISOU', 'OTHERS'])"
      ]
     },
     "execution_count": 213,
     "metadata": {},
     "output_type": "execute_result"
    }
   ],
   "source": [
    "ppdb.df.keys()"
   ]
  },
  {
   "cell_type": "code",
   "execution_count": null,
   "id": "59f17ec0",
   "metadata": {},
   "outputs": [],
   "source": [
    "for value in ppdb.df.items():\n",
    "    if ppdb.df['ATOM']['segment_id']=='PROA':\n",
    "        ppdb.df['ATOM']['chain_id']='A'\n",
    "        "
   ]
  },
  {
   "cell_type": "code",
   "execution_count": null,
   "id": "8fabd665",
   "metadata": {},
   "outputs": [],
   "source": [
    "ppdb.df['ATOM']['chain_id'].apply(lambda row: 'A' if row.segment_I > 5 and row.TotalMntProducts > 2000 else 0, axis=1)\n"
   ]
  },
  {
   "cell_type": "code",
   "execution_count": 171,
   "id": "5bcb3116",
   "metadata": {},
   "outputs": [],
   "source": [
    "df1 = ppdb.df['ATOM'].loc[ppdb.df['ATOM']['segment_id'] == 'HETA']"
   ]
  },
  {
   "cell_type": "code",
   "execution_count": 172,
   "id": "b362a9a1",
   "metadata": {},
   "outputs": [],
   "source": [
    "df1['chain_id'] = 'H'"
   ]
  },
  {
   "cell_type": "code",
   "execution_count": 173,
   "id": "9d517d96",
   "metadata": {},
   "outputs": [],
   "source": [
    "df = ppdb.df['ATOM'].loc[ppdb.df['ATOM']['segment_id'] == 'PROA']\n",
    "pd.options.mode.chained_assignment = None"
   ]
  },
  {
   "cell_type": "code",
   "execution_count": 174,
   "id": "a74d48a6",
   "metadata": {},
   "outputs": [],
   "source": [
    "df['chain_id'] = 'P'"
   ]
  },
  {
   "cell_type": "code",
   "execution_count": null,
   "id": "861389dc",
   "metadata": {},
   "outputs": [],
   "source": [
    "df1"
   ]
  },
  {
   "cell_type": "code",
   "execution_count": 207,
   "id": "4dae5745",
   "metadata": {},
   "outputs": [
    {
     "name": "stderr",
     "output_type": "stream",
     "text": [
      "/home/guests/petero/.conda/envs/my_jupyter_notebooks/lib/python3.9/site-packages/biopandas/pdb/pandas_pdb.py:461: UserWarning: No ATOM/HETATM entries have been loaded. Is the input file/text in the pdb format?\n",
      "  warnings.warn(\n"
     ]
    },
    {
     "data": {
      "text/html": [
       "<div>\n",
       "<style scoped>\n",
       "    .dataframe tbody tr th:only-of-type {\n",
       "        vertical-align: middle;\n",
       "    }\n",
       "\n",
       "    .dataframe tbody tr th {\n",
       "        vertical-align: top;\n",
       "    }\n",
       "\n",
       "    .dataframe thead th {\n",
       "        text-align: right;\n",
       "    }\n",
       "</style>\n",
       "<table border=\"1\" class=\"dataframe\">\n",
       "  <thead>\n",
       "    <tr style=\"text-align: right;\">\n",
       "      <th></th>\n",
       "      <th>record_name</th>\n",
       "      <th>atom_number</th>\n",
       "      <th>blank_1</th>\n",
       "      <th>atom_name</th>\n",
       "      <th>alt_loc</th>\n",
       "      <th>residue_name</th>\n",
       "      <th>blank_2</th>\n",
       "      <th>chain_id</th>\n",
       "      <th>residue_number</th>\n",
       "      <th>insertion</th>\n",
       "      <th>...</th>\n",
       "      <th>x_coord</th>\n",
       "      <th>y_coord</th>\n",
       "      <th>z_coord</th>\n",
       "      <th>occupancy</th>\n",
       "      <th>b_factor</th>\n",
       "      <th>blank_4</th>\n",
       "      <th>segment_id</th>\n",
       "      <th>element_symbol</th>\n",
       "      <th>charge</th>\n",
       "      <th>line_idx</th>\n",
       "    </tr>\n",
       "  </thead>\n",
       "  <tbody>\n",
       "  </tbody>\n",
       "</table>\n",
       "<p>0 rows × 21 columns</p>\n",
       "</div>"
      ],
      "text/plain": [
       "Empty DataFrame\n",
       "Columns: [record_name, atom_number, blank_1, atom_name, alt_loc, residue_name, blank_2, chain_id, residue_number, insertion, blank_3, x_coord, y_coord, z_coord, occupancy, b_factor, blank_4, segment_id, element_symbol, charge, line_idx]\n",
       "Index: []\n",
       "\n",
       "[0 rows x 21 columns]"
      ]
     },
     "execution_count": 207,
     "metadata": {},
     "output_type": "execute_result"
    }
   ],
   "source": [
    "ppdb = PandasPdb().read_pdb_from_list(values)\n",
    "ppdb.df['ATOM']"
   ]
  },
  {
   "cell_type": "code",
   "execution_count": 204,
   "id": "410c1446",
   "metadata": {},
   "outputs": [],
   "source": [
    "values = ','.join(str(v) for v in final)"
   ]
  },
  {
   "cell_type": "code",
   "execution_count": 194,
   "id": "d746bc6f",
   "metadata": {},
   "outputs": [],
   "source": [
    "final = result.to_numpy()"
   ]
  },
  {
   "cell_type": "code",
   "execution_count": 195,
   "id": "42d69764",
   "metadata": {},
   "outputs": [
    {
     "data": {
      "text/plain": [
       "array([['ATOM', 1, '', ..., 'N', nan, 3],\n",
       "       ['ATOM', 2, '', ..., 'H', nan, 4],\n",
       "       ['ATOM', 3, '', ..., 'H', nan, 5],\n",
       "       ...,\n",
       "       ['ATOM', 26965, '', ..., 'H', nan, 26967],\n",
       "       ['ATOM', 26966, '', ..., 'H', nan, 26968],\n",
       "       ['ATOM', 26967, '', ..., 'H', nan, 26969]], dtype=object)"
      ]
     },
     "execution_count": 195,
     "metadata": {},
     "output_type": "execute_result"
    }
   ],
   "source": [
    "final"
   ]
  },
  {
   "cell_type": "code",
   "execution_count": 198,
   "id": "394e227f",
   "metadata": {},
   "outputs": [],
   "source": [
    "final = np.where(pd.isna(final), '', final)"
   ]
  },
  {
   "cell_type": "code",
   "execution_count": 202,
   "id": "309eacd1",
   "metadata": {},
   "outputs": [],
   "source": [
    "final = final.tolist()"
   ]
  },
  {
   "cell_type": "code",
   "execution_count": 182,
   "id": "ff0779b4",
   "metadata": {},
   "outputs": [],
   "source": [
    "frames = [df, df1]\n",
    "result = pd.concat(frames)"
   ]
  },
  {
   "cell_type": "code",
   "execution_count": null,
   "id": "79ff9a43",
   "metadata": {},
   "outputs": [],
   "source": [
    "pd.options.mode.chained_assignment = None\n",
    "for filepath in glob.glob(os.path.join('/home/projects/petero', '*.pdb')):\n",
    "    print(filepath)\n",
    "    ppdb = PandasPdb().read_pdb(filepath)\n",
    "    df = ppdb.df['ATOM'].loc[ppdb.df['ATOM']['segment_id'] == 'PROA']\n",
    "    df1 = ppdb.df['ATOM'].loc[ppdb.df['ATOM']['segment_id'] == 'HETA']\n",
    "    df['chain_id'] = 'P'\n",
    "    df1['chain_id'] = 'H'\n",
    "    frames = [df, df1]\n",
    "    result = pd.concat(frames)\n",
    "    ppdb.df['ATOM'] = esult\n",
    "    ppdb.to_pdb(path='{}'.format(filepath), \n",
    "            records=None, \n",
    "            gz=False, \n",
    "            append_newline=True)"
   ]
  },
  {
   "cell_type": "code",
   "execution_count": null,
   "id": "4c65d1c9",
   "metadata": {},
   "outputs": [],
   "source": [
    "cmd = '''\n",
    "cd /home/projects/petero/binding-pocket-project/naccess/test\n",
    "for filename in /home/projects/petero/binding-pocket-project/naccess/test/*.pdb\n",
    "do\n",
    "  /home/projects/petero/software/naccess/naccess \"$filename\";\n",
    "done\n",
    "touch SASA_ligand.txt\n",
    "touch SASA_complex.txt\n",
    "for filename in test/*\n",
    "do\n",
    "  prefix=\"${filename##*/}\"\n",
    "  base=\"${prefix%%_*}\"\n",
    "  echo \"$base\"_ligand_sasa>>SASA_ligand.txt\n",
    "  grep \"CHAIN  1 H\" ${base}_ligand.rsa >>SASA_ligand.txt\n",
    "  echo \"$base\"_complex_sasa >>SASA_complex.txt\n",
    "  grep \"CHAIN  2 H\" ${base}_complex.rsa >>SASA_complex.txt\n",
    "done \n",
    "'''"
   ]
  },
  {
   "cell_type": "code",
   "execution_count": null,
   "id": "9dd94ee8",
   "metadata": {},
   "outputs": [],
   "source": [
    "subprocess.run(cmd, shell=True, check=True, executable='/usr/bin/bash')"
   ]
  },
  {
   "cell_type": "code",
   "execution_count": null,
   "id": "bfc2edde",
   "metadata": {},
   "outputs": [],
   "source": [
    "df = pd.read_fwf('/home/projects/petero/binding-pocket-project/naccess/test/SASA_ligand.txt', skiprows=1, header = None)\n",
    "df1 = pd.read_fwf('/home/projects/petero/binding-pocket-project/naccess/test/SASA_complex.txt', skiprows=1, header = None"
   ]
  },
  {
   "cell_type": "code",
   "execution_count": null,
   "id": "0694df2a",
   "metadata": {},
   "outputs": [],
   "source": [
    "df"
   ]
  },
  {
   "cell_type": "code",
   "execution_count": null,
   "id": "746dbd7c",
   "metadata": {},
   "outputs": [],
   "source": [
    "df1"
   ]
  },
  {
   "cell_type": "code",
   "execution_count": null,
   "id": "145f4097",
   "metadata": {},
   "outputs": [],
   "source": [
    "df.columns= ['PDB ID', 'All-atoms', 'Total-Side', 'Main-Chain', 'Non-polar', 'All polar']\n",
    "df1.columns= ['PDB ID','All-atoms', 'Total-Side', 'Main-Chain', 'Non-polar', 'All polar']"
   ]
  },
  {
   "cell_type": "code",
   "execution_count": null,
   "id": "1e8e86e8",
   "metadata": {},
   "outputs": [],
   "source": [
    "df"
   ]
  },
  {
   "cell_type": "code",
   "execution_count": null,
   "id": "eebbda7b",
   "metadata": {},
   "outputs": [],
   "source": [
    "df1"
   ]
  },
  {
   "cell_type": "code",
   "execution_count": null,
   "id": "4cebbc6b",
   "metadata": {},
   "outputs": [],
   "source": [
    "df2 = (pd.merge(df, df1, on='PDB ID'))"
   ]
  },
  {
   "cell_type": "code",
   "execution_count": null,
   "id": "5116d930",
   "metadata": {},
   "outputs": [],
   "source": [
    "df2"
   ]
  },
  {
   "cell_type": "code",
   "execution_count": null,
   "id": "29af84d0",
   "metadata": {},
   "outputs": [],
   "source": [
    "df2['BSA_total'] = df2['All-atoms_x']- df2['All-atoms_y']\n",
    "df2['MESA_total'] = df2['All-atoms_y']"
   ]
  },
  {
   "cell_type": "code",
   "execution_count": null,
   "id": "50666855",
   "metadata": {},
   "outputs": [],
   "source": [
    "df2['BSA_nonpolar'] = df2['Non-polar_x']- df2['Non-polar_y']\n",
    "df2['MESA_nonpolar'] = df2['Non-polar_y']"
   ]
  },
  {
   "cell_type": "code",
   "execution_count": null,
   "id": "eefe97c8",
   "metadata": {},
   "outputs": [],
   "source": [
    "df2['BSA_polar'] = df2['All polar_x']- df2['All polar_y']\n",
    "df2['MESA_polar'] = df2['All polar_y']"
   ]
  },
  {
   "cell_type": "code",
   "execution_count": null,
   "id": "928d9574",
   "metadata": {},
   "outputs": [],
   "source": [
    "df2"
   ]
  },
  {
   "cell_type": "code",
   "execution_count": null,
   "id": "b66516e1",
   "metadata": {},
   "outputs": [],
   "source": [
    "df2.to_csv('/home/projects/petero/binding-pocket-project/naccess/test/final_sasa.csv', index=False)"
   ]
  },
  {
   "cell_type": "code",
   "execution_count": null,
   "id": "c557b783",
   "metadata": {},
   "outputs": [],
   "source": []
  }
 ],
 "metadata": {
  "kernelspec": {
   "display_name": "Python 3 (ipykernel)",
   "language": "python",
   "name": "python3"
  },
  "language_info": {
   "codemirror_mode": {
    "name": "ipython",
    "version": 3
   },
   "file_extension": ".py",
   "mimetype": "text/x-python",
   "name": "python",
   "nbconvert_exporter": "python",
   "pygments_lexer": "ipython3",
   "version": "3.9.15"
  }
 },
 "nbformat": 4,
 "nbformat_minor": 5
}
