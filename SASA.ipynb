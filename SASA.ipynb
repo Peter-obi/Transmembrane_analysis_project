{
 "cells": [
  {
   "cell_type": "code",
   "execution_count": 56,
   "metadata": {},
   "outputs": [],
   "source": [
    "import numpy as np\n",
    "import pandas as pd \n",
    "import subprocess\n",
    "from pathlib import Path"
   ]
  },
  {
   "cell_type": "code",
   "execution_count": 57,
   "metadata": {},
   "outputs": [],
   "source": [
    "cmd = '''\n",
    "cd /home/projects/petero/binding-pocket-project/naccess/test\n",
    "for filename in /home/projects/petero/binding-pocket-project/naccess/test/*\n",
    "do\n",
    "  /home/projects/petero/software/naccess/naccess \"$filename\";\n",
    "done\n",
    "touch SASA_ligand.txt\n",
    "touch SASA_complex.txt\n",
    "for filename in test/*\n",
    "do\n",
    "  prefix=\"${filename##*/}\"\n",
    "  base=\"${prefix%%_*}\"\n",
    "  echo \"$base\"_ligand_sasa>>SASA_ligand.txt\n",
    "  grep \"CHAIN  1 H\" ${base}_ligand.rsa >>SASA_ligand.txt\n",
    "  echo \"$base\"_complex_sasa >>SASA_complex.txt\n",
    "  grep \"CHAIN  2 H\" ${base}_complex.rsa >>SASA_complex.txt\n",
    "done \n",
    "'''"
   ]
  },
  {
   "cell_type": "code",
   "execution_count": 58,
   "metadata": {},
   "outputs": [
    {
     "data": {
      "text/plain": [
       "CompletedProcess(args='\\ncd /home/projects/petero/binding-pocket-project/naccess/test\\nfor filename in /home/projects/petero/binding-pocket-project/naccess/test/*\\ndo\\n  /home/projects/petero/software/naccess/naccess \"$filename\";\\ndone\\ntouch SASA_ligand.txt\\ntouch SASA_complex.txt\\nfor filename in test/*\\ndo\\n  prefix=\"${filename##*/}\"\\n  base=\"${prefix%%_*}\"\\n  echo \"$base\"_ligand_sasa>>SASA_ligand.txt\\n  grep \"CHAIN  1 H\" ${base}_ligand.rsa >>SASA_ligand.txt\\n  echo \"$base\"_complex_sasa >>SASA_complex.txt\\n  grep \"CHAIN  2 H\" ${base}_complex.rsa >>SASA_complex.txt\\ndone \\n', returncode=0)"
      ]
     },
     "execution_count": 58,
     "metadata": {},
     "output_type": "execute_result"
    }
   ],
   "source": [
    "subprocess.run(cmd, shell=True, check=True, executable='/usr/bin/bash')\n"
   ]
  },
  {
   "cell_type": "code",
   "execution_count": 61,
   "metadata": {},
   "outputs": [],
   "source": [
    "df = pd.read_fwf('/home/projects/petero/binding-pocket-project/naccess/test/SASA_ligand.txt', skiprows=1, header = None)\n",
    "df1 = pd.read_fwf('/home/projects/petero/binding-pocket-project/naccess/test/SASA_complex.txt', skiprows=1, header = None)"
   ]
  },
  {
   "cell_type": "code",
   "execution_count": 62,
   "metadata": {},
   "outputs": [
    {
     "data": {
      "text/html": [
       "<div>\n",
       "<style scoped>\n",
       "    .dataframe tbody tr th:only-of-type {\n",
       "        vertical-align: middle;\n",
       "    }\n",
       "\n",
       "    .dataframe tbody tr th {\n",
       "        vertical-align: top;\n",
       "    }\n",
       "\n",
       "    .dataframe thead th {\n",
       "        text-align: right;\n",
       "    }\n",
       "</style>\n",
       "<table border=\"1\" class=\"dataframe\">\n",
       "  <thead>\n",
       "    <tr style=\"text-align: right;\">\n",
       "      <th></th>\n",
       "      <th>0</th>\n",
       "      <th>1</th>\n",
       "      <th>2</th>\n",
       "      <th>3</th>\n",
       "      <th>4</th>\n",
       "      <th>5</th>\n",
       "      <th>6</th>\n",
       "      <th>7</th>\n",
       "    </tr>\n",
       "  </thead>\n",
       "  <tbody>\n",
       "    <tr>\n",
       "      <th>0</th>\n",
       "      <td>17000_ligand.rsa:CHAIN</td>\n",
       "      <td>1</td>\n",
       "      <td>H</td>\n",
       "      <td>671.9</td>\n",
       "      <td>671.9</td>\n",
       "      <td>0.0</td>\n",
       "      <td>613.8</td>\n",
       "      <td>58.1</td>\n",
       "    </tr>\n",
       "    <tr>\n",
       "      <th>1</th>\n",
       "      <td>20000_ligand.rsa:CHAIN</td>\n",
       "      <td>1</td>\n",
       "      <td>H</td>\n",
       "      <td>665.1</td>\n",
       "      <td>665.1</td>\n",
       "      <td>0.0</td>\n",
       "      <td>606.3</td>\n",
       "      <td>58.8</td>\n",
       "    </tr>\n",
       "  </tbody>\n",
       "</table>\n",
       "</div>"
      ],
      "text/plain": [
       "                        0  1  2      3      4    5      6     7\n",
       "0  17000_ligand.rsa:CHAIN  1  H  671.9  671.9  0.0  613.8  58.1\n",
       "1  20000_ligand.rsa:CHAIN  1  H  665.1  665.1  0.0  606.3  58.8"
      ]
     },
     "execution_count": 62,
     "metadata": {},
     "output_type": "execute_result"
    }
   ],
   "source": [
    "df"
   ]
  },
  {
   "cell_type": "code",
   "execution_count": 63,
   "metadata": {},
   "outputs": [
    {
     "data": {
      "text/html": [
       "<div>\n",
       "<style scoped>\n",
       "    .dataframe tbody tr th:only-of-type {\n",
       "        vertical-align: middle;\n",
       "    }\n",
       "\n",
       "    .dataframe tbody tr th {\n",
       "        vertical-align: top;\n",
       "    }\n",
       "\n",
       "    .dataframe thead th {\n",
       "        text-align: right;\n",
       "    }\n",
       "</style>\n",
       "<table border=\"1\" class=\"dataframe\">\n",
       "  <thead>\n",
       "    <tr style=\"text-align: right;\">\n",
       "      <th></th>\n",
       "      <th>0</th>\n",
       "      <th>1</th>\n",
       "      <th>2</th>\n",
       "      <th>3</th>\n",
       "      <th>4</th>\n",
       "      <th>5</th>\n",
       "      <th>6</th>\n",
       "      <th>7</th>\n",
       "    </tr>\n",
       "  </thead>\n",
       "  <tbody>\n",
       "    <tr>\n",
       "      <th>0</th>\n",
       "      <td>17000_complex.rsa:CHAIN</td>\n",
       "      <td>2</td>\n",
       "      <td>H</td>\n",
       "      <td>198.9</td>\n",
       "      <td>198.9</td>\n",
       "      <td>0.0</td>\n",
       "      <td>185.8</td>\n",
       "      <td>13.1</td>\n",
       "    </tr>\n",
       "    <tr>\n",
       "      <th>1</th>\n",
       "      <td>20000_complex.rsa:CHAIN</td>\n",
       "      <td>2</td>\n",
       "      <td>H</td>\n",
       "      <td>201.5</td>\n",
       "      <td>201.5</td>\n",
       "      <td>0.0</td>\n",
       "      <td>181.9</td>\n",
       "      <td>19.7</td>\n",
       "    </tr>\n",
       "  </tbody>\n",
       "</table>\n",
       "</div>"
      ],
      "text/plain": [
       "                         0  1  2      3      4    5      6     7\n",
       "0  17000_complex.rsa:CHAIN  2  H  198.9  198.9  0.0  185.8  13.1\n",
       "1  20000_complex.rsa:CHAIN  2  H  201.5  201.5  0.0  181.9  19.7"
      ]
     },
     "execution_count": 63,
     "metadata": {},
     "output_type": "execute_result"
    }
   ],
   "source": [
    "df1"
   ]
  },
  {
   "cell_type": "code",
   "execution_count": 64,
   "metadata": {},
   "outputs": [],
   "source": [
    "df[0] = df[0].str.extract('([^_]+)')\n",
    "df1[0] = df1[0].str.extract('([^_]+)')"
   ]
  },
  {
   "cell_type": "code",
   "execution_count": 65,
   "metadata": {},
   "outputs": [],
   "source": [
    "df = df.drop(df.columns[[1, 2]], axis=1)\n",
    "df1 = df1.drop(df1.columns[[1, 2]], axis=1)"
   ]
  },
  {
   "cell_type": "code",
   "execution_count": 66,
   "metadata": {},
   "outputs": [],
   "source": [
    "df.columns= ['PDB ID', 'All-atoms', 'Total-Side', 'Main-Chain', 'Non-polar', 'All polar']\n",
    "df1.columns= ['PDB ID','All-atoms', 'Total-Side', 'Main-Chain', 'Non-polar', 'All polar']"
   ]
  },
  {
   "cell_type": "code",
   "execution_count": 67,
   "metadata": {},
   "outputs": [
    {
     "data": {
      "text/html": [
       "<div>\n",
       "<style scoped>\n",
       "    .dataframe tbody tr th:only-of-type {\n",
       "        vertical-align: middle;\n",
       "    }\n",
       "\n",
       "    .dataframe tbody tr th {\n",
       "        vertical-align: top;\n",
       "    }\n",
       "\n",
       "    .dataframe thead th {\n",
       "        text-align: right;\n",
       "    }\n",
       "</style>\n",
       "<table border=\"1\" class=\"dataframe\">\n",
       "  <thead>\n",
       "    <tr style=\"text-align: right;\">\n",
       "      <th></th>\n",
       "      <th>PDB ID</th>\n",
       "      <th>All-atoms</th>\n",
       "      <th>Total-Side</th>\n",
       "      <th>Main-Chain</th>\n",
       "      <th>Non-polar</th>\n",
       "      <th>All polar</th>\n",
       "    </tr>\n",
       "  </thead>\n",
       "  <tbody>\n",
       "    <tr>\n",
       "      <th>0</th>\n",
       "      <td>17000</td>\n",
       "      <td>671.9</td>\n",
       "      <td>671.9</td>\n",
       "      <td>0.0</td>\n",
       "      <td>613.8</td>\n",
       "      <td>58.1</td>\n",
       "    </tr>\n",
       "    <tr>\n",
       "      <th>1</th>\n",
       "      <td>20000</td>\n",
       "      <td>665.1</td>\n",
       "      <td>665.1</td>\n",
       "      <td>0.0</td>\n",
       "      <td>606.3</td>\n",
       "      <td>58.8</td>\n",
       "    </tr>\n",
       "  </tbody>\n",
       "</table>\n",
       "</div>"
      ],
      "text/plain": [
       "  PDB ID  All-atoms  Total-Side  Main-Chain  Non-polar  All polar\n",
       "0  17000      671.9       671.9         0.0      613.8       58.1\n",
       "1  20000      665.1       665.1         0.0      606.3       58.8"
      ]
     },
     "execution_count": 67,
     "metadata": {},
     "output_type": "execute_result"
    }
   ],
   "source": [
    "df"
   ]
  },
  {
   "cell_type": "code",
   "execution_count": 68,
   "metadata": {},
   "outputs": [
    {
     "data": {
      "text/html": [
       "<div>\n",
       "<style scoped>\n",
       "    .dataframe tbody tr th:only-of-type {\n",
       "        vertical-align: middle;\n",
       "    }\n",
       "\n",
       "    .dataframe tbody tr th {\n",
       "        vertical-align: top;\n",
       "    }\n",
       "\n",
       "    .dataframe thead th {\n",
       "        text-align: right;\n",
       "    }\n",
       "</style>\n",
       "<table border=\"1\" class=\"dataframe\">\n",
       "  <thead>\n",
       "    <tr style=\"text-align: right;\">\n",
       "      <th></th>\n",
       "      <th>PDB ID</th>\n",
       "      <th>All-atoms</th>\n",
       "      <th>Total-Side</th>\n",
       "      <th>Main-Chain</th>\n",
       "      <th>Non-polar</th>\n",
       "      <th>All polar</th>\n",
       "    </tr>\n",
       "  </thead>\n",
       "  <tbody>\n",
       "    <tr>\n",
       "      <th>0</th>\n",
       "      <td>17000</td>\n",
       "      <td>198.9</td>\n",
       "      <td>198.9</td>\n",
       "      <td>0.0</td>\n",
       "      <td>185.8</td>\n",
       "      <td>13.1</td>\n",
       "    </tr>\n",
       "    <tr>\n",
       "      <th>1</th>\n",
       "      <td>20000</td>\n",
       "      <td>201.5</td>\n",
       "      <td>201.5</td>\n",
       "      <td>0.0</td>\n",
       "      <td>181.9</td>\n",
       "      <td>19.7</td>\n",
       "    </tr>\n",
       "  </tbody>\n",
       "</table>\n",
       "</div>"
      ],
      "text/plain": [
       "  PDB ID  All-atoms  Total-Side  Main-Chain  Non-polar  All polar\n",
       "0  17000      198.9       198.9         0.0      185.8       13.1\n",
       "1  20000      201.5       201.5         0.0      181.9       19.7"
      ]
     },
     "execution_count": 68,
     "metadata": {},
     "output_type": "execute_result"
    }
   ],
   "source": [
    "df1"
   ]
  },
  {
   "cell_type": "code",
   "execution_count": 69,
   "metadata": {},
   "outputs": [],
   "source": [
    "df2 = (pd.merge(df, df1, on='PDB ID'))"
   ]
  },
  {
   "cell_type": "code",
   "execution_count": 70,
   "metadata": {},
   "outputs": [
    {
     "data": {
      "text/html": [
       "<div>\n",
       "<style scoped>\n",
       "    .dataframe tbody tr th:only-of-type {\n",
       "        vertical-align: middle;\n",
       "    }\n",
       "\n",
       "    .dataframe tbody tr th {\n",
       "        vertical-align: top;\n",
       "    }\n",
       "\n",
       "    .dataframe thead th {\n",
       "        text-align: right;\n",
       "    }\n",
       "</style>\n",
       "<table border=\"1\" class=\"dataframe\">\n",
       "  <thead>\n",
       "    <tr style=\"text-align: right;\">\n",
       "      <th></th>\n",
       "      <th>PDB ID</th>\n",
       "      <th>All-atoms_x</th>\n",
       "      <th>Total-Side_x</th>\n",
       "      <th>Main-Chain_x</th>\n",
       "      <th>Non-polar_x</th>\n",
       "      <th>All polar_x</th>\n",
       "      <th>All-atoms_y</th>\n",
       "      <th>Total-Side_y</th>\n",
       "      <th>Main-Chain_y</th>\n",
       "      <th>Non-polar_y</th>\n",
       "      <th>All polar_y</th>\n",
       "    </tr>\n",
       "  </thead>\n",
       "  <tbody>\n",
       "    <tr>\n",
       "      <th>0</th>\n",
       "      <td>17000</td>\n",
       "      <td>671.9</td>\n",
       "      <td>671.9</td>\n",
       "      <td>0.0</td>\n",
       "      <td>613.8</td>\n",
       "      <td>58.1</td>\n",
       "      <td>198.9</td>\n",
       "      <td>198.9</td>\n",
       "      <td>0.0</td>\n",
       "      <td>185.8</td>\n",
       "      <td>13.1</td>\n",
       "    </tr>\n",
       "    <tr>\n",
       "      <th>1</th>\n",
       "      <td>20000</td>\n",
       "      <td>665.1</td>\n",
       "      <td>665.1</td>\n",
       "      <td>0.0</td>\n",
       "      <td>606.3</td>\n",
       "      <td>58.8</td>\n",
       "      <td>201.5</td>\n",
       "      <td>201.5</td>\n",
       "      <td>0.0</td>\n",
       "      <td>181.9</td>\n",
       "      <td>19.7</td>\n",
       "    </tr>\n",
       "  </tbody>\n",
       "</table>\n",
       "</div>"
      ],
      "text/plain": [
       "  PDB ID  All-atoms_x  Total-Side_x  Main-Chain_x  Non-polar_x  All polar_x  \\\n",
       "0  17000        671.9         671.9           0.0        613.8         58.1   \n",
       "1  20000        665.1         665.1           0.0        606.3         58.8   \n",
       "\n",
       "   All-atoms_y  Total-Side_y  Main-Chain_y  Non-polar_y  All polar_y  \n",
       "0        198.9         198.9           0.0        185.8         13.1  \n",
       "1        201.5         201.5           0.0        181.9         19.7  "
      ]
     },
     "execution_count": 70,
     "metadata": {},
     "output_type": "execute_result"
    }
   ],
   "source": [
    "df2"
   ]
  },
  {
   "cell_type": "code",
   "execution_count": 71,
   "metadata": {},
   "outputs": [],
   "source": [
    "df2['BSA_total'] = df2['All-atoms_x']- df2['All-atoms_y']\n",
    "df2['MESA_total'] = df2['All-atoms_y']"
   ]
  },
  {
   "cell_type": "code",
   "execution_count": 72,
   "metadata": {},
   "outputs": [],
   "source": [
    "df2['BSA_nonpolar'] = df2['Non-polar_x']- df2['Non-polar_y']\n",
    "df2['MESA_nonpolar'] = df2['Non-polar_y']"
   ]
  },
  {
   "cell_type": "code",
   "execution_count": 73,
   "metadata": {},
   "outputs": [],
   "source": [
    "df2['BSA_polar'] = df2['All polar_x']- df2['All polar_y']\n",
    "df2['MESA_polar'] = df2['All polar_y']"
   ]
  },
  {
   "cell_type": "code",
   "execution_count": 74,
   "metadata": {},
   "outputs": [
    {
     "data": {
      "text/html": [
       "<div>\n",
       "<style scoped>\n",
       "    .dataframe tbody tr th:only-of-type {\n",
       "        vertical-align: middle;\n",
       "    }\n",
       "\n",
       "    .dataframe tbody tr th {\n",
       "        vertical-align: top;\n",
       "    }\n",
       "\n",
       "    .dataframe thead th {\n",
       "        text-align: right;\n",
       "    }\n",
       "</style>\n",
       "<table border=\"1\" class=\"dataframe\">\n",
       "  <thead>\n",
       "    <tr style=\"text-align: right;\">\n",
       "      <th></th>\n",
       "      <th>PDB ID</th>\n",
       "      <th>All-atoms_x</th>\n",
       "      <th>Total-Side_x</th>\n",
       "      <th>Main-Chain_x</th>\n",
       "      <th>Non-polar_x</th>\n",
       "      <th>All polar_x</th>\n",
       "      <th>All-atoms_y</th>\n",
       "      <th>Total-Side_y</th>\n",
       "      <th>Main-Chain_y</th>\n",
       "      <th>Non-polar_y</th>\n",
       "      <th>All polar_y</th>\n",
       "      <th>BSA_total</th>\n",
       "      <th>MESA_total</th>\n",
       "      <th>BSA_nonpolar</th>\n",
       "      <th>MESA_nonpolar</th>\n",
       "      <th>BSA_polar</th>\n",
       "      <th>MESA_polar</th>\n",
       "    </tr>\n",
       "  </thead>\n",
       "  <tbody>\n",
       "    <tr>\n",
       "      <th>0</th>\n",
       "      <td>17000</td>\n",
       "      <td>671.9</td>\n",
       "      <td>671.9</td>\n",
       "      <td>0.0</td>\n",
       "      <td>613.8</td>\n",
       "      <td>58.1</td>\n",
       "      <td>198.9</td>\n",
       "      <td>198.9</td>\n",
       "      <td>0.0</td>\n",
       "      <td>185.8</td>\n",
       "      <td>13.1</td>\n",
       "      <td>473.0</td>\n",
       "      <td>198.9</td>\n",
       "      <td>428.0</td>\n",
       "      <td>185.8</td>\n",
       "      <td>45.0</td>\n",
       "      <td>13.1</td>\n",
       "    </tr>\n",
       "    <tr>\n",
       "      <th>1</th>\n",
       "      <td>20000</td>\n",
       "      <td>665.1</td>\n",
       "      <td>665.1</td>\n",
       "      <td>0.0</td>\n",
       "      <td>606.3</td>\n",
       "      <td>58.8</td>\n",
       "      <td>201.5</td>\n",
       "      <td>201.5</td>\n",
       "      <td>0.0</td>\n",
       "      <td>181.9</td>\n",
       "      <td>19.7</td>\n",
       "      <td>463.6</td>\n",
       "      <td>201.5</td>\n",
       "      <td>424.4</td>\n",
       "      <td>181.9</td>\n",
       "      <td>39.1</td>\n",
       "      <td>19.7</td>\n",
       "    </tr>\n",
       "  </tbody>\n",
       "</table>\n",
       "</div>"
      ],
      "text/plain": [
       "  PDB ID  All-atoms_x  Total-Side_x  Main-Chain_x  Non-polar_x  All polar_x  \\\n",
       "0  17000        671.9         671.9           0.0        613.8         58.1   \n",
       "1  20000        665.1         665.1           0.0        606.3         58.8   \n",
       "\n",
       "   All-atoms_y  Total-Side_y  Main-Chain_y  Non-polar_y  All polar_y  \\\n",
       "0        198.9         198.9           0.0        185.8         13.1   \n",
       "1        201.5         201.5           0.0        181.9         19.7   \n",
       "\n",
       "   BSA_total  MESA_total  BSA_nonpolar  MESA_nonpolar  BSA_polar  MESA_polar  \n",
       "0      473.0       198.9         428.0          185.8       45.0        13.1  \n",
       "1      463.6       201.5         424.4          181.9       39.1        19.7  "
      ]
     },
     "execution_count": 74,
     "metadata": {},
     "output_type": "execute_result"
    }
   ],
   "source": [
    "df2"
   ]
  },
  {
   "cell_type": "code",
   "execution_count": 75,
   "metadata": {},
   "outputs": [],
   "source": [
    "df2.to_csv('/home/projects/petero/binding-pocket-project/naccess/test/final_sasa.csv', index=False)"
   ]
  },
  {
   "cell_type": "code",
   "execution_count": null,
   "metadata": {},
   "outputs": [],
   "source": []
  }
 ],
 "metadata": {
  "kernelspec": {
   "display_name": "Python 3",
   "language": "python",
   "name": "python3"
  },
  "language_info": {
   "codemirror_mode": {
    "name": "ipython",
    "version": 3
   },
   "file_extension": ".py",
   "mimetype": "text/x-python",
   "name": "python",
   "nbconvert_exporter": "python",
   "pygments_lexer": "ipython3",
   "version": "3.7.4"
  }
 },
 "nbformat": 4,
 "nbformat_minor": 2
}
