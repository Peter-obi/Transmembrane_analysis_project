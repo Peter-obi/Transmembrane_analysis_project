{
 "cells": [
  {
   "cell_type": "markdown",
   "id": "f1aa92a9",
   "metadata": {},
   "source": [
    "### SASA trajectory analysis.\n",
    "Works well for protein and ligand residues of up to 10,000 atoms. You will need a pdb file and a trajectory file. Protein and ligand must have DIFFERENT CHAIN IDs. You also need to have naccess and MDAnalysis.\n",
    "Written by Peter Obi 11/17/2022"
   ]
  },
  {
   "cell_type": "code",
   "execution_count": 13,
   "id": "6a7d9045",
   "metadata": {},
   "outputs": [],
   "source": [
    "import MDAnalysis"
   ]
  },
  {
   "cell_type": "code",
   "execution_count": 6,
   "id": "b29342c2",
   "metadata": {},
   "outputs": [
    {
     "data": {
      "text/plain": [
       "6"
      ]
     },
     "execution_count": 6,
     "metadata": {},
     "output_type": "execute_result"
    }
   ],
   "source": [
    "topology = 'step5_input.pdb'\n",
    "trajectory = '5.trr' \n",
    "u = MDAnalysis.Universe(topology,trajectory)\n",
    "protein_ligand = u.select_atoms(\"protein or (resname P1N)\") #change P1N to ligand name\n",
    "ligand = u.select_atoms(\"resname P1N\")\n",
    "len(u.trajectory)"
   ]
  },
  {
   "cell_type": "code",
   "execution_count": 7,
   "id": "b5ec7e3b",
   "metadata": {},
   "outputs": [],
   "source": [
    "for ts in u.trajectory:\n",
    "    with MDAnalysis.Writer(\"{}_complex.pdb\".format(ts.frame), protein_ligand.n_atoms) as W:\n",
    "        W.write(protein_ligand)\n",
    "    with MDAnalysis.Writer(\"{}_ligand.pdb\".format(ts.frame), ligand.n_atoms) as L:\n",
    "        L.write(ligand)     "
   ]
  },
  {
   "cell_type": "code",
   "execution_count": null,
   "id": "6aa590bf",
   "metadata": {},
   "outputs": [],
   "source": []
  },
  {
   "cell_type": "code",
   "execution_count": null,
   "id": "80a482de",
   "metadata": {},
   "outputs": [],
   "source": [
    "cmd = '''\n",
    "cd /home/projects/petero/binding-pocket-project/naccess/test\n",
    "for filename in /home/projects/petero/binding-pocket-project/naccess/test/*.pdb\n",
    "do\n",
    "  /home/projects/petero/software/naccess/naccess \"$filename\";\n",
    "done\n",
    "touch SASA_ligand.txt\n",
    "touch SASA_complex.txt\n",
    "for filename in test/*\n",
    "do\n",
    "  prefix=\"${filename##*/}\"\n",
    "  base=\"${prefix%%_*}\"\n",
    "  echo \"$base\"_ligand_sasa>>SASA_ligand.txt\n",
    "  grep \"CHAIN  1 H\" ${base}_ligand.rsa >>SASA_ligand.txt\n",
    "  echo \"$base\"_complex_sasa >>SASA_complex.txt\n",
    "  grep \"CHAIN  2 H\" ${base}_complex.rsa >>SASA_complex.txt\n",
    "done \n",
    "'''"
   ]
  },
  {
   "cell_type": "code",
   "execution_count": null,
   "id": "33fc4c1c",
   "metadata": {},
   "outputs": [],
   "source": [
    "subprocess.run(cmd, shell=True, check=True, executable='/usr/bin/bash')"
   ]
  },
  {
   "cell_type": "code",
   "execution_count": null,
   "id": "1db0b793",
   "metadata": {},
   "outputs": [],
   "source": [
    "df = pd.read_fwf('/home/projects/petero/binding-pocket-project/naccess/test/SASA_ligand.txt', skiprows=1, header = None)\n",
    "df1 = pd.read_fwf('/home/projects/petero/binding-pocket-project/naccess/test/SASA_complex.txt', skiprows=1, header = None"
   ]
  },
  {
   "cell_type": "code",
   "execution_count": null,
   "id": "beee9381",
   "metadata": {},
   "outputs": [],
   "source": [
    "df"
   ]
  },
  {
   "cell_type": "code",
   "execution_count": null,
   "id": "b7e703d5",
   "metadata": {},
   "outputs": [],
   "source": [
    "df1"
   ]
  },
  {
   "cell_type": "code",
   "execution_count": null,
   "id": "c035f150",
   "metadata": {},
   "outputs": [],
   "source": [
    "df.columns= ['PDB ID', 'All-atoms', 'Total-Side', 'Main-Chain', 'Non-polar', 'All polar']\n",
    "df1.columns= ['PDB ID','All-atoms', 'Total-Side', 'Main-Chain', 'Non-polar', 'All polar']"
   ]
  },
  {
   "cell_type": "code",
   "execution_count": null,
   "id": "f6ef663d",
   "metadata": {},
   "outputs": [],
   "source": [
    "df"
   ]
  },
  {
   "cell_type": "code",
   "execution_count": null,
   "id": "6ab5e03b",
   "metadata": {},
   "outputs": [],
   "source": [
    "df1"
   ]
  },
  {
   "cell_type": "code",
   "execution_count": null,
   "id": "9273c56d",
   "metadata": {},
   "outputs": [],
   "source": [
    "df2 = (pd.merge(df, df1, on='PDB ID'))"
   ]
  },
  {
   "cell_type": "code",
   "execution_count": null,
   "id": "db4faa31",
   "metadata": {},
   "outputs": [],
   "source": [
    "df2"
   ]
  },
  {
   "cell_type": "code",
   "execution_count": null,
   "id": "9c233a2d",
   "metadata": {},
   "outputs": [],
   "source": [
    "df2['BSA_total'] = df2['All-atoms_x']- df2['All-atoms_y']\n",
    "df2['MESA_total'] = df2['All-atoms_y']"
   ]
  },
  {
   "cell_type": "code",
   "execution_count": null,
   "id": "39f9143b",
   "metadata": {},
   "outputs": [],
   "source": [
    "df2['BSA_nonpolar'] = df2['Non-polar_x']- df2['Non-polar_y']\n",
    "df2['MESA_nonpolar'] = df2['Non-polar_y']"
   ]
  },
  {
   "cell_type": "code",
   "execution_count": null,
   "id": "e8c95a70",
   "metadata": {},
   "outputs": [],
   "source": [
    "df2['BSA_polar'] = df2['All polar_x']- df2['All polar_y']\n",
    "df2['MESA_polar'] = df2['All polar_y']"
   ]
  },
  {
   "cell_type": "code",
   "execution_count": null,
   "id": "2c06bf5c",
   "metadata": {},
   "outputs": [],
   "source": [
    "df2"
   ]
  },
  {
   "cell_type": "code",
   "execution_count": null,
   "id": "82ecf166",
   "metadata": {},
   "outputs": [],
   "source": [
    "df2.to_csv('/home/projects/petero/binding-pocket-project/naccess/test/final_sasa.csv', index=False)"
   ]
  },
  {
   "cell_type": "code",
   "execution_count": null,
   "id": "79f3340e",
   "metadata": {},
   "outputs": [],
   "source": []
  }
 ],
 "metadata": {
  "kernelspec": {
   "display_name": "Python 3 (ipykernel)",
   "language": "python",
   "name": "python3"
  },
  "language_info": {
   "codemirror_mode": {
    "name": "ipython",
    "version": 3
   },
   "file_extension": ".py",
   "mimetype": "text/x-python",
   "name": "python",
   "nbconvert_exporter": "python",
   "pygments_lexer": "ipython3",
   "version": "3.9.15"
  }
 },
 "nbformat": 4,
 "nbformat_minor": 5
}
